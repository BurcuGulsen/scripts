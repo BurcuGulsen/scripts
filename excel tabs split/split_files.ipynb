{
 "cells": [
  {
   "cell_type": "code",
   "execution_count": 70,
   "id": "ebed244c",
   "metadata": {},
   "outputs": [],
   "source": [
    "import pandas as pd\n",
    "import numpy as np\n",
    "import os\n",
    "import warnings\n",
    "warnings.filterwarnings('ignore')"
   ]
  },
  {
   "cell_type": "code",
   "execution_count": 71,
   "id": "b8b969c8",
   "metadata": {},
   "outputs": [],
   "source": [
    "countries_dir = os.listdir()"
   ]
  },
  {
   "cell_type": "code",
   "execution_count": 72,
   "id": "e97df508",
   "metadata": {
    "scrolled": false
   },
   "outputs": [],
   "source": [
    "path = '/home/mariam/data_onboarding/clients/Scheff/modelling/Models/cast iron/cast iron'\n",
    "for directory in countries_dir:\n",
    "    if len(directory)==2:\n",
    "        file_names = [ file for file in os.listdir(directory) if '.xlsx' in file]\n",
    "        full_path_names = [os.path.join(path, directory, file_name) for file_name in file_names]\n",
    "        for file_path in full_path_names:\n",
    "            cleaned_name =file_path.split('/')[-1].split('_')[0]+'_'+str(directory)+'_'+file_path.split('/')[-1].split('_')[1]\n",
    "            cleaned_name = cleaned_name.replace('.xlsx', '.csv')           \n",
    "            activity = pd.read_excel(file_path, sheet_name = 'activity')\n",
    "            activity_name = cleaned_name[:-4]+'_activity_'+cleaned_name[-4:]\n",
    "            activity.to_csv(activity_name, index = False)\n",
    "            exchange = pd.read_excel(file_path, sheet_name = 'exchange')\n",
    "            exchange_name = cleaned_name[:-4]+'_exchange_'+cleaned_name[-4:]\n",
    "            exchange.to_csv(exchange_name, index = False)"
   ]
  },
  {
   "cell_type": "code",
   "execution_count": null,
   "id": "19698915",
   "metadata": {},
   "outputs": [],
   "source": []
  }
 ],
 "metadata": {
  "kernelspec": {
   "display_name": "Python 3 (ipykernel)",
   "language": "python",
   "name": "python3"
  },
  "language_info": {
   "codemirror_mode": {
    "name": "ipython",
    "version": 3
   },
   "file_extension": ".py",
   "mimetype": "text/x-python",
   "name": "python",
   "nbconvert_exporter": "python",
   "pygments_lexer": "ipython3",
   "version": "3.9.13"
  }
 },
 "nbformat": 4,
 "nbformat_minor": 5
}
